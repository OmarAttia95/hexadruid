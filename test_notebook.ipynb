{
 "cells": [
  {
   "cell_type": "markdown",
   "id": "2960674353e56349",
   "metadata": {},
   "source": [
    "# HexaDruid: Auto Fix Spark Skew  \n",
    "Welcome! This notebook will walk you through **HexaDruid**, our PySpark library that:\n",
    "\n",
    "-  **Automatically detects & corrects** data skew  \n",
    "-  **Infers schemas** and builds a **DRTree** for logical sharding  \n",
    "-  **Tunes parameters** (salt count & shuffle partitions)  \n",
    "-  Is designed to be **noob-friendly**, with plenty of tips  \n",
    "\n",
    "Let’s get started!\n",
    "\n",
    "---"
   ]
  },
  {
   "cell_type": "markdown",
   "id": "4bf0b937a43f33a9",
   "metadata": {},
   "source": [
    "# Step 1: Spark Session Configuration\n",
    "\n",
    "Basic settings and performance tuners for local development."
   ]
  },
  {
   "cell_type": "code",
   "execution_count": 2,
   "id": "58ab18c319eaac5e",
   "metadata": {
    "ExecuteTime": {
     "end_time": "2025-07-07T08:35:06.111658Z",
     "start_time": "2025-07-07T08:34:54.254680Z"
    }
   },
   "outputs": [
    {
     "name": "stdout",
     "output_type": "stream",
     "text": [
      "Collecting hexadruid==0.1.6\n",
      "  Downloading hexadruid-0.1.6-py3-none-any.whl.metadata (8.1 kB)\n",
      "Requirement already satisfied: pyspark>=3.5.1 in c:\\users\\omarattia\\appdata\\local\\programs\\python\\python311\\lib\\site-packages (from hexadruid==0.1.6) (4.0.0)\n",
      "Requirement already satisfied: pandas in c:\\users\\omarattia\\appdata\\local\\programs\\python\\python311\\lib\\site-packages (from hexadruid==0.1.6) (2.2.3)\n",
      "Requirement already satisfied: matplotlib in c:\\users\\omarattia\\appdata\\local\\programs\\python\\python311\\lib\\site-packages (from hexadruid==0.1.6) (3.10.3)\n",
      "Requirement already satisfied: seaborn in c:\\users\\omarattia\\appdata\\local\\programs\\python\\python311\\lib\\site-packages (from hexadruid==0.1.6) (0.13.2)\n",
      "Requirement already satisfied: py4j==0.10.9.9 in c:\\users\\omarattia\\appdata\\local\\programs\\python\\python311\\lib\\site-packages (from pyspark>=3.5.1->hexadruid==0.1.6) (0.10.9.9)\n",
      "Requirement already satisfied: contourpy>=1.0.1 in c:\\users\\omarattia\\appdata\\local\\programs\\python\\python311\\lib\\site-packages (from matplotlib->hexadruid==0.1.6) (1.3.2)\n",
      "Requirement already satisfied: cycler>=0.10 in c:\\users\\omarattia\\appdata\\local\\programs\\python\\python311\\lib\\site-packages (from matplotlib->hexadruid==0.1.6) (0.12.1)\n",
      "Requirement already satisfied: fonttools>=4.22.0 in c:\\users\\omarattia\\appdata\\local\\programs\\python\\python311\\lib\\site-packages (from matplotlib->hexadruid==0.1.6) (4.58.5)\n",
      "Requirement already satisfied: kiwisolver>=1.3.1 in c:\\users\\omarattia\\appdata\\local\\programs\\python\\python311\\lib\\site-packages (from matplotlib->hexadruid==0.1.6) (1.4.8)\n",
      "Requirement already satisfied: numpy>=1.23 in c:\\users\\omarattia\\appdata\\local\\programs\\python\\python311\\lib\\site-packages (from matplotlib->hexadruid==0.1.6) (2.2.5)\n",
      "Requirement already satisfied: packaging>=20.0 in c:\\users\\omarattia\\appdata\\roaming\\python\\python311\\site-packages (from matplotlib->hexadruid==0.1.6) (25.0)\n",
      "Requirement already satisfied: pillow>=8 in c:\\users\\omarattia\\appdata\\local\\programs\\python\\python311\\lib\\site-packages (from matplotlib->hexadruid==0.1.6) (11.3.0)\n",
      "Requirement already satisfied: pyparsing>=2.3.1 in c:\\users\\omarattia\\appdata\\local\\programs\\python\\python311\\lib\\site-packages (from matplotlib->hexadruid==0.1.6) (3.2.3)\n",
      "Requirement already satisfied: python-dateutil>=2.7 in c:\\users\\omarattia\\appdata\\roaming\\python\\python311\\site-packages (from matplotlib->hexadruid==0.1.6) (2.9.0.post0)\n",
      "Requirement already satisfied: six>=1.5 in c:\\users\\omarattia\\appdata\\roaming\\python\\python311\\site-packages (from python-dateutil>=2.7->matplotlib->hexadruid==0.1.6) (1.17.0)\n",
      "Requirement already satisfied: pytz>=2020.1 in c:\\users\\omarattia\\appdata\\local\\programs\\python\\python311\\lib\\site-packages (from pandas->hexadruid==0.1.6) (2025.2)\n",
      "Requirement already satisfied: tzdata>=2022.7 in c:\\users\\omarattia\\appdata\\local\\programs\\python\\python311\\lib\\site-packages (from pandas->hexadruid==0.1.6) (2025.2)\n",
      "Downloading hexadruid-0.1.6-py3-none-any.whl (22 kB)\n",
      "Installing collected packages: hexadruid\n",
      "Successfully installed hexadruid-0.1.6\n"
     ]
    }
   ],
   "source": [
    "# Install required Python packages (only if not already installed)\n",
    "!pip install pyspark>=3.5.1 pandas matplotlib seaborn --quiet\n",
    "!pip install hexadruid==0.1.6"
   ]
  },
  {
   "cell_type": "markdown",
   "id": "f6232c4dc0438c40",
   "metadata": {},
   "source": [
    "# Step 2: Import Libraries\n",
    "\n",
    "Now we bring in:\n",
    "\n",
    "- 🔧 **HexaDruid** core classes & functions  \n",
    "- 📊 **pandas** for local DataFrame previews  \n",
    "\n",
    "> 💡 *Tip:* Make sure you’ve installed your package in editable mode:  \n",
    "> ```bash\n",
    "> pip install -e .\n",
    "> ```"
   ]
  },
  {
   "cell_type": "code",
   "execution_count": 3,
   "id": "initial_id",
   "metadata": {
    "ExecuteTime": {
     "end_time": "2025-07-07T08:36:12.288175Z",
     "start_time": "2025-07-07T08:36:12.279516Z"
    },
    "collapsed": true
   },
   "outputs": [
    {
     "ename": "ImportError",
     "evalue": "bad magic number in '_core': b'\\xef\\xbf\\xbd\\n'",
     "output_type": "error",
     "traceback": [
      "\u001b[31m---------------------------------------------------------------------------\u001b[39m",
      "\u001b[31mImportError\u001b[39m                               Traceback (most recent call last)",
      "\u001b[36mCell\u001b[39m\u001b[36m \u001b[39m\u001b[32mIn[3]\u001b[39m\u001b[32m, line 3\u001b[39m\n\u001b[32m      1\u001b[39m \u001b[38;5;66;03m# Step 2: Import Libraries\u001b[39;00m\n\u001b[32m      2\u001b[39m \u001b[38;5;28;01mfrom\u001b[39;00m\u001b[38;5;250m \u001b[39m\u001b[34;01mpyspark\u001b[39;00m\u001b[34;01m.\u001b[39;00m\u001b[34;01msql\u001b[39;00m\u001b[38;5;250m \u001b[39m\u001b[38;5;28;01mimport\u001b[39;00m SparkSession\n\u001b[32m----> \u001b[39m\u001b[32m3\u001b[39m \u001b[38;5;28;01mfrom\u001b[39;00m\u001b[38;5;250m \u001b[39m\u001b[34;01mhexadruid\u001b[39;00m\u001b[38;5;250m \u001b[39m\u001b[38;5;28;01mimport\u001b[39;00m HexaDruid\n\u001b[32m      4\u001b[39m \u001b[38;5;28;01mimport\u001b[39;00m\u001b[38;5;250m \u001b[39m\u001b[34;01mpandas\u001b[39;00m\u001b[38;5;250m \u001b[39m\u001b[38;5;28;01mas\u001b[39;00m\u001b[38;5;250m \u001b[39m\u001b[34;01mpd\u001b[39;00m\n\u001b[32m      5\u001b[39m \u001b[38;5;28;01mimport\u001b[39;00m\u001b[38;5;250m \u001b[39m\u001b[34;01mmatplotlib\u001b[39;00m\u001b[34;01m.\u001b[39;00m\u001b[34;01mpyplot\u001b[39;00m\u001b[38;5;250m \u001b[39m\u001b[38;5;28;01mas\u001b[39;00m\u001b[38;5;250m \u001b[39m\u001b[34;01mplt\u001b[39;00m\n",
      "\u001b[36mFile \u001b[39m\u001b[32mc:\\Users\\OmarAttia\\hexadruid\\hexadruid\\__init__.py:1\u001b[39m\n\u001b[32m----> \u001b[39m\u001b[32m1\u001b[39m \u001b[38;5;28;01mfrom\u001b[39;00m\u001b[38;5;250m \u001b[39m\u001b[34;01m.\u001b[39;00m\u001b[34;01mhexadruid\u001b[39;00m\u001b[38;5;250m \u001b[39m\u001b[38;5;28;01mimport\u001b[39;00m HexaDruid\n\u001b[32m      3\u001b[39m __all__ = [\u001b[33m\"\u001b[39m\u001b[33mHexaDruid\u001b[39m\u001b[33m\"\u001b[39m]\n",
      "\u001b[36mFile \u001b[39m\u001b[32mc:\\Users\\OmarAttia\\hexadruid\\hexadruid\\hexadruid.py:12\u001b[39m\n\u001b[32m      9\u001b[39m     spec.loader.exec_module(_core)\n\u001b[32m     10\u001b[39m     \u001b[38;5;28;01mreturn\u001b[39;00m _core._HexaDruidCore\n\u001b[32m---> \u001b[39m\u001b[32m12\u001b[39m _HexaDruidCore = \u001b[43m_load_core_class\u001b[49m\u001b[43m(\u001b[49m\u001b[43m)\u001b[49m\n\u001b[32m     14\u001b[39m \u001b[38;5;28;01mclass\u001b[39;00m\u001b[38;5;250m \u001b[39m\u001b[34;01mHexaDruid\u001b[39;00m(_HexaDruidCore):\n\u001b[32m     15\u001b[39m \u001b[38;5;250m    \u001b[39m\u001b[33;03m\"\"\"Public HexaDruid interface\"\"\"\u001b[39;00m\n",
      "\u001b[36mFile \u001b[39m\u001b[32mc:\\Users\\OmarAttia\\hexadruid\\hexadruid\\hexadruid.py:9\u001b[39m, in \u001b[36m_load_core_class\u001b[39m\u001b[34m()\u001b[39m\n\u001b[32m      7\u001b[39m spec = importlib.util.spec_from_file_location(\u001b[33m\"\u001b[39m\u001b[33m_core\u001b[39m\u001b[33m\"\u001b[39m, path)\n\u001b[32m      8\u001b[39m _core = importlib.util.module_from_spec(spec)\n\u001b[32m----> \u001b[39m\u001b[32m9\u001b[39m \u001b[43mspec\u001b[49m\u001b[43m.\u001b[49m\u001b[43mloader\u001b[49m\u001b[43m.\u001b[49m\u001b[43mexec_module\u001b[49m\u001b[43m(\u001b[49m\u001b[43m_core\u001b[49m\u001b[43m)\u001b[49m\n\u001b[32m     10\u001b[39m \u001b[38;5;28;01mreturn\u001b[39;00m _core._HexaDruidCore\n",
      "\u001b[31mImportError\u001b[39m: bad magic number in '_core': b'\\xef\\xbf\\xbd\\n'"
     ]
    }
   ],
   "source": [
    "# Step 2: Import Libraries\n",
    "from pyspark.sql import SparkSession\n",
    "from hexadruid import HexaDruid\n",
    "import pandas as pd\n",
    "import matplotlib.pyplot as plt"
   ]
  },
  {
   "cell_type": "markdown",
   "id": "4a0f6fae159bdb54",
   "metadata": {},
   "source": [
    "# Step 3: Spark Session Configuration\n",
    "\n",
    "In this step we will:\n",
    "\n",
    "1. **Create** a SparkSession with sensible local defaults  \n",
    "2. **Apply** performance-tuning configs for development  \n",
    "3. **Set** log level to WARN to avoid noise  \n",
    "\n",
    "> 💡 *Tip:* You can adjust `spark_driver_memory` and `spark_executor_memory` based on your machine."
   ]
  },
  {
   "cell_type": "code",
   "execution_count": null,
   "id": "79bf0222f6ad952c",
   "metadata": {
    "ExecuteTime": {
     "end_time": "2025-07-07T08:35:06.377507Z",
     "start_time": "2025-07-07T08:35:06.230313Z"
    }
   },
   "outputs": [
    {
     "name": "stdout",
     "output_type": "stream",
     "text": [
      "Spark v4.0.0 started | Driver: 2g | Executor: 2g\n"
     ]
    }
   ],
   "source": [
    "# ----------------------------\n",
    "# Spark Session Configuration\n",
    "# ----------------------------\n",
    "\n",
    "from pyspark.sql import SparkSession\n",
    "\n",
    "# Basic Settings\n",
    "spark_app_name = \"HexaDruid_Test\"\n",
    "spark_master = \"local[*]\"\n",
    "spark_driver_memory = \"2g\"\n",
    "spark_executor_memory = \"2g\"\n",
    "spark_log_level = \"WARN\"\n",
    "\n",
    "# Performance Tuners\n",
    "spark_configs = {\n",
    "    \"spark.sql.shuffle.partitions\": \"4\",\n",
    "    \"spark.default.parallelism\": \"4\",\n",
    "    \"spark.sql.adaptive.enabled\": \"true\",\n",
    "    \"spark.sql.adaptive.coalescePartitions.enabled\": \"true\",\n",
    "    \"spark.sql.adaptive.skewJoin.enabled\": \"true\",\n",
    "    \"spark.sql.broadcastTimeout\": \"60\",\n",
    "    \"spark.serializer\": \"org.apache.spark.serializer.KryoSerializer\",\n",
    "    \"spark.sql.codegen.wholeStage\": \"true\",\n",
    "    \"spark.ui.showConsoleProgress\": \"false\",\n",
    "}\n",
    "\n",
    "# ----------------------------\n",
    "# Build Spark Session\n",
    "# ----------------------------\n",
    "\n",
    "builder = SparkSession.builder.appName(spark_app_name).master(spark_master)\n",
    "\n",
    "# Apply memory configs\n",
    "\n",
    "builder = builder.config(\"spark.driver.memory\", spark_driver_memory)\n",
    "builder = builder.config(\"spark.executor.memory\", spark_executor_memory)\n",
    "\n",
    "# Apply performance configs\n",
    "for k, v in spark_configs.items():\n",
    "    builder = builder.config(k, v)\n",
    "\n",
    "# Create Spark session\n",
    "spark = builder.getOrCreate()\n",
    "\n",
    "# Set log level\n",
    "spark.sparkContext.setLogLevel(spark_log_level)\n",
    "\n",
    "# Confirm Spark details\n",
    "print(f\"Spark v{spark.version} started | Driver: {spark_driver_memory} | Executor: {spark_executor_memory}\")"
   ]
  },
  {
   "cell_type": "markdown",
   "id": "d888bcc7adf01fc8",
   "metadata": {},
   "source": [
    "# Step 3: Define Input Path\n",
    "\n",
    "**Action:** Update these two variables:\n",
    "\n",
    "- `input_path`: full path to your data file  \n",
    "- `file_type`: one of `\"csv\"`, `\"json\"`, `\"parquet\"`, `\"delta\"`  \n",
    "\n",
    "This controls how we load the data in Step 4.\n"
   ]
  },
  {
   "cell_type": "code",
   "execution_count": null,
   "id": "7f7d8481227b9358",
   "metadata": {
    "ExecuteTime": {
     "end_time": "2025-07-07T08:35:06.662491Z",
     "start_time": "2025-07-07T08:35:06.427811Z"
    }
   },
   "outputs": [],
   "source": [
    "# Replace this path with your own CSV\n",
    "file_type = \"csv\"                 # Options: \"csv\", \"json\", \"parquet\", \"delta\"\n",
    "input_file = fr\"data\\garbage_data.{file_type}\""
   ]
  },
  {
   "cell_type": "markdown",
   "id": "140f7590",
   "metadata": {},
   "source": [
    "# Step 4: Load Your Data (Any File Type)\n",
    "\n",
    "We support:\n",
    "\n",
    "- **`.csv`**: comma-separated values (all columns read as string)  \n",
    "- **`.json`**: JSON records (multiline or line-delimited)  \n",
    "- **`.parquet`**: Spark’s columnar format  \n",
    "- **`.delta`**: Delta Lake tables (optional)  \n",
    "\n",
    "We’ll **preview** the first 5 rows and print the schema."
   ]
  },
  {
   "cell_type": "code",
   "execution_count": null,
   "id": "5d7d2dd4",
   "metadata": {},
   "outputs": [
    {
     "name": "stdout",
     "output_type": "stream",
     "text": [
      "Loaded CSV data:\n",
      "+------------------------------------+--------+-----+-------------------+\n",
      "|id                                  |category|value|score              |\n",
      "+------------------------------------+--------+-----+-------------------+\n",
      "|9e4ae8ca-afa9-401e-94fa-a52d28002c68|A       |18   |-1.001119469115976 |\n",
      "|f78bc458-a330-46fa-b290-6cfa207fe8f9|C       |67   |0.8995041356368483 |\n",
      "|4a30b50a-72c3-4f27-8e29-dea9e5add4fd|D       |1    |-0.5429043041433205|\n",
      "|8ee96da1-3782-43ba-835d-a7cca1fd630a|A       |35   |1.7987184735669364 |\n",
      "|eb813a1a-204a-4fb8-bdf2-3ed0039aea44|B       |9    |1.9126727786399833 |\n",
      "+------------------------------------+--------+-----+-------------------+\n",
      "only showing top 5 rows\n",
      "root\n",
      " |-- id: string (nullable = true)\n",
      " |-- category: string (nullable = true)\n",
      " |-- value: string (nullable = true)\n",
      " |-- score: string (nullable = true)\n",
      "\n"
     ]
    }
   ],
   "source": [
    "if file_type == \"csv\":\n",
    "    df_raw = (\n",
    "        spark.read\n",
    "             .option(\"header\", \"true\")\n",
    "             .option(\"inferSchema\", \"false\")  # load all columns as strings\n",
    "             .csv(input_file)\n",
    "    )\n",
    "elif file_type == \"json\":\n",
    "    df_raw = spark.read.option(\"multiLine\", \"true\").json(input_file)\n",
    "elif file_type == \"parquet\":\n",
    "    df_raw = spark.read.parquet(input_file)\n",
    "elif file_type == \"delta\":\n",
    "    df_raw = spark.read.format(\"delta\").load(input_file)\n",
    "else:\n",
    "    raise ValueError(f\"Unsupported file type: {file_type!r}\")\n",
    "\n",
    "print(f\"Loaded {file_type.upper()} data:\")\n",
    "df_raw.show(5, truncate=False)\n",
    "df_raw.printSchema()"
   ]
  },
  {
   "cell_type": "markdown",
   "id": "d2b83218",
   "metadata": {},
   "source": [
    "# Step 5 (Optional): Infer Schema & Build DRTree\n",
    "\n",
    "*You can skip this if you already know your schema and don’t need sharding metadata.*\n",
    "\n",
    "This step:\n",
    "\n",
    "1. **Samples** a fraction of rows  \n",
    "   - Controlled by `sample_fraction` (default **20%**).  \n",
    "   - We “peek” at only part of the data to infer types and build the DRTree quickly, without scanning your entire dataset.\n",
    "\n",
    "2. **Infers** each column’s type (int, double, string)  \n",
    "   - Looks at the sampled values to decide if a column should be Integer, Double, or remain String.\n",
    "\n",
    "3. **Builds** a lightweight **DRTree** for logical data shards  \n",
    "   - Splits the data into branches based on skewed columns (see below).  \n",
    "   - The shape of the tree is governed by `max_depth` and `min_samples`.\n",
    "\n",
    "4. **Casts** the full DataFrame to the inferred schema  \n",
    "   - Applies the new schema to every row in the original DataFrame.\n",
    "\n",
    "---\n",
    "\n",
    "### Parameter Details\n",
    "\n",
    "- `sample_fraction=0.2`  \n",
    "  Peek at **20%** of rows for inference (faster + lower memory).\n",
    "\n",
    "- `max_depth=3`  \n",
    "  Limit tree depth to **3 splits** (up to 2³ = 8 shards).\n",
    "\n",
    "- `min_samples=500`  \n",
    "  Stop splitting any shard with fewer than **500 rows** (avoid tiny shards).\n",
    "\n",
    "- `skew_thresh=0.1`  \n",
    "  Only numeric columns with skew score **> 0.10** are used to split.\n",
    "\n",
    "- `skew_top_n=3`  \n",
    "  Consider the **top 3** most-skewed numeric columns when building the tree.\n",
    "\n",
    "---\n",
    "\n",
    "**Outputs**:\n",
    "\n",
    "- `df_typed` — your original DataFrame cast to the inferred schema  \n",
    "- `schema`   — the `StructType` object describing each column  \n",
    "- `dr_tree`  — metadata (Roots & Branches) defining your logical shards"
   ]
  },
  {
   "cell_type": "code",
   "execution_count": null,
   "id": "148ca237",
   "metadata": {},
   "outputs": [
    {
     "name": "stdout",
     "output_type": "stream",
     "text": [
      "Inferred StructType:\n",
      " {\"fields\":[{\"metadata\":{\"avg_length\":36.0,\"max_length\":36},\"name\":\"id\",\"nullable\":true,\"type\":\"string\"},{\"metadata\":{\"avg_length\":1.0,\"max_length\":1},\"name\":\"category\",\"nullable\":true,\"type\":\"string\"},{\"metadata\":{},\"name\":\"value\",\"nullable\":true,\"type\":\"integer\"},{\"metadata\":{\"avg_length\":18.593908629441625,\"max_length\":21},\"name\":\"score\",\"nullable\":true,\"type\":\"string\"}],\"type\":\"struct\"}\n",
      "DRTree metadata:\n",
      " {'dr_tree': [{'root': 'shard_fallback', 'branches': [{'name': 'shard_fallback', 'predicate': '1=1'}]}]}\n"
     ]
    }
   ],
   "source": [
    "do_schema = True  # ← set to False, if you need to skip the Smart Schema Detection!\n",
    "if do_schema:\n",
    "    df_typed, schema, dr_tree = HexaDruid.schemaVisor(\n",
    "        df_raw,\n",
    "        sample_fraction=0.2,\n",
    "        max_depth=3,\n",
    "        min_samples=500,\n",
    "        skew_thresh=0.1,\n",
    "        skew_top_n=3\n",
    "    )\n",
    "    print(\"Inferred StructType:\\n\", schema.json())\n",
    "    print(\"DRTree metadata:\\n\", dr_tree.to_dict())\n",
    "else:\n",
    "    df_typed = df_raw\n",
    "    print(\"Skipping schemaVisor; proceeding with raw DataFrame.\")"
   ]
  },
  {
   "cell_type": "markdown",
   "id": "ca1832f22952071a",
   "metadata": {},
   "source": [
    "# Step 6: Inspect Numeric Columns & Skew Detection\n",
    "\n",
    "- **Numeric columns**: which fields can be used for skew analysis  \n",
    "- **Skew detection**: top _N_ columns exceeding the skew threshold  \n",
    "\n",
    "---\n",
    "\n",
    "### Skew parameters explained\n",
    "\n",
    "- **`threshold=0.1`**  \n",
    "  Only columns whose **skew score** exceeds **0.10 (10%)** will be flagged as skewed.  \n",
    "  A skew score (based on quartiles) measures how unbalanced the distribution is—higher means more skew.\n",
    "\n",
    "- **`top_n=3`**  \n",
    "  Of all the columns that pass the threshold, pick the **top 3** worst-skewed columns for salting.  \n",
    "  This focuses your effort on the biggest offenders.\n",
    "\n",
    "> 💡 *Tip:*  \n",
    "> - If you detect **no** skewed columns, try **lowering** `threshold` (e.g. to `0.05`).  \n",
    "> - If you want to salt more columns, **increase** `top_n` (e.g. to `5`).  \n",
    "> - ALWAYS choose the number of columns wisely! **Proceed with extreme caution** (`2` as a default)\n",
    "> - Make sure to use the output of `Detected skewed columns` in step 8.\n",
    ">\n"
   ]
  },
  {
   "cell_type": "code",
   "execution_count": null,
   "id": "bff381eecfddc046",
   "metadata": {
    "ExecuteTime": {
     "end_time": "2025-07-07T08:35:06.837309Z",
     "start_time": "2025-07-07T08:35:06.716667Z"
    }
   },
   "outputs": [
    {
     "name": "stdout",
     "output_type": "stream",
     "text": [
      "Numeric columns: ['value']\n",
      "Detected skewed columns with indexes:\n",
      "- Index: 0, Column: value\n"
     ]
    }
   ],
   "source": [
    "# 1) List numeric columns\n",
    "numeric_cols = HexaDruid.infer_numeric_columns(df_typed)\n",
    "print(\"Numeric columns:\", numeric_cols)\n",
    "\n",
    "# 2) Detect skew among them\n",
    "skew_detector = SkewFeatureDetector(threshold = 0.1, top_n = 2)\n",
    "skewed = skew_detector.detect(df_typed)\n",
    "\n",
    "# Make sure you use this in your step (8)\n",
    "print(\"Detected skewed columns with indexes:\")\n",
    "for idx, col_name in enumerate(skewed):\n",
    "    if col_name in skewed:\n",
    "        print(f\"- Index: {idx}, Column: {col_name}\")"
   ]
  },
  {
   "cell_type": "markdown",
   "id": "1f6205020fa4e682",
   "metadata": {},
   "source": [
    "# Step 7: Detect Low-Cardinality Categorical Column\n",
    "\n",
    "We need a **groupBy** column with few distinct values (≤20), ideal for counting.\n",
    "\n",
    "- The method picks the **first** such string column.  \n",
    "- Raises an error if none qualifies.\n",
    "- The variable `grp_col` is a pointer (a Python string) holding the name of the chosen column. \n",
    "\n",
    "> 💡 **Tips for Noobs:**  \n",
    "> - Verify that `grp_col` makes sense for your analysis—avoid grouping by high-cardinality fields (like user IDs or timestamps) which can reintroduce skew or create too many groups.  \n",
    ">\n",
    "> - Override the default anytime by specifying your own column in your code, for example:  \n",
    ">   ```python\n",
    ">   df.groupBy(\"your_column\").count()\n",
    ">   ```  \n",
    "> - If you see an error, inspect your DataFrame’s string columns to ensure at least one has **20 or fewer** distinct values.  "
   ]
  },
  {
   "cell_type": "code",
   "execution_count": null,
   "id": "bf3fd0b988ed1e96",
   "metadata": {},
   "outputs": [
    {
     "name": "stdout",
     "output_type": "stream",
     "text": [
      "Low-cardinality categorical column: category\n"
     ]
    }
   ],
   "source": [
    "grp_col = HexaDruid.detect_low_cardinality_categorical(df_typed)\n",
    "\n",
    "print(\"Low-cardinality categorical column:\", grp_col)"
   ]
  },
  {
   "cell_type": "markdown",
   "id": "5708d0b9ce53f662",
   "metadata": {},
   "source": [
    "# Step 8: Apply Smart Salting\n",
    "\n",
    "We will:\n",
    "\n",
    "1. **Salt** (bucket) the top-skew column into `salt_count` buckets  \n",
    "2. **Visualize**: z-score, boxplot, histogram (saved to `output_dir`)  \n",
    "3. **Fine-tune** salt count on 10% sample  \n",
    "4. **Auto-tune** Spark’s shuffle partitions  \n",
    "\n",
    "> Outputs a new DataFrame `df_salted`\n",
    "\n",
    "---\n",
    "\n",
    "### Parameter breakdown\n",
    "\n",
    "- **`col_name=top_skew`**  \n",
    "  The **column name** (string) you want to rebalance.  \n",
    "  Here `top_skew` comes from your skew detector (`skewed[0]`).\n",
    "\n",
    "- **`salt_count=10`**  \n",
    "  Start by slicing your data into **10 buckets** (salt values 0–9).  \n",
    "  ▶️ *Tip:* Pick a power-of-two or something close to your cluster’s cores.\n",
    "\n",
    "- **`output_dir=\"hexa_druid_outputs\"`**  \n",
    "  All visualizations and logs are saved under this folder.  \n",
    "  ▶️ *Tip:* Make this path unique per dataset or run to avoid overwriting.\n",
    "\n",
    "- **`visualize=True`**  \n",
    "  Saves three charts to help you verify the effect:  \n",
    "  - Z-score comparison (before vs after)  \n",
    "  - Boxplot (original vs salted)  \n",
    "  - Histogram with density curves  \n",
    "  ▶️ *Tip:* If you’re running in a headless environment, these still generate PNG files.\n",
    "\n",
    "- **`fine_tune=True`**  \n",
    "  Runs the **AutoParameterTuner** on a **10% sample** of your data to pick a better `salt_count`.  \n",
    "  It tests the supplied counts (`[10, dp, dp*2]`) and chooses the one minimizing the sum-of-squares of partition sizes.  \n",
    "  ▶️ *Tip:* Great for beginners—avoid manual trial-and-error.\n",
    "\n",
    "- **`auto_tune=True`**  \n",
    "  After salting, adjusts `spark.sql.shuffle.partitions` based on your **`target_rows`**.  \n",
    "  Ensures partitions are neither too small (wasted overhead) nor too large (OOM risk).\n",
    "\n",
    "- **`target_rows=1000`**  \n",
    "  The tuner tries to achieve ~**1,000 rows per partition**.  \n",
    "  ▶️ *Tip:* Lower for very skewed data or smaller clusters; increase for big clusters.\n",
    "\n",
    "---\n",
    "\n",
    "> 💡 **Tips for Noobs:**  \n",
    "> - **Check your plots!** Open the PNGs under `hexa_druid_outputs/` to visually confirm balance.  \n",
    "> - If your data is small, **reduce** `target_rows` to keep partitions reasonably sized.  \n",
    "> - If salting doesn’t help, try **lowering** `skew_thresh` in Step 6 or **increasing** `salt_count`.  \n",
    "> - Always **version** your `output_dir` (e.g., include a timestamp) to compare different runs.\n"
   ]
  },
  {
   "cell_type": "code",
   "execution_count": null,
   "id": "e57a71afb67e50e6",
   "metadata": {},
   "outputs": [
    {
     "name": "stderr",
     "output_type": "stream",
     "text": [
      "[INFO] [Tuner] n=10, cost=1127\n",
      "[INFO] [Tuner] n=4, cost=2647\n",
      "[INFO] [Tuner] n=8, cost=1547\n",
      "[INFO] [Tuner] chosen salt_count=10\n",
      "[INFO] [ShuffleTuner] partitions=1\n"
     ]
    },
    {
     "name": "stdout",
     "output_type": "stream",
     "text": [
      "Salting complete. Plots saved under hexa_druid_outputs/\n"
     ]
    },
    {
     "data": {
      "image/png": "[encoded data removed]",
      "text/plain": [
       "<Figure size 1400x400 with 2 Axes>"
      ]
     },
     "metadata": {},
     "output_type": "display_data"
    }
   ],
   "source": [
    "# Using the output index from Step (6)\n",
    "top_skew = skewed[0]\n",
    "\n",
    "hexa = HexaDruid(df_typed, salt_count=10, output_dir=\"hexa_druid_outputs\")\n",
    "df_salted = hexa.apply_smart_salting(\n",
    "    col_name=top_skew,\n",
    "    visualize=True,\n",
    "    fine_tune=True,\n",
    "    auto_tune=True,\n",
    "    target_rows=1000\n",
    ")\n",
    "print(\"Salting complete. Plots saved under hexa_druid_outputs/\")"
   ]
  },
  {
   "cell_type": "markdown",
   "id": "c829e65ec2b135c2",
   "metadata": {},
   "source": [
    "# Step 9: Repartition on Salted Key\n",
    "\n",
    "(Optional) Force repartition on `\"salted_key\"` to guarantee even distribution.\n",
    "\n",
    "- Use `npartitions` equal to your cluster parallelism."
   ]
  },
  {
   "cell_type": "code",
   "execution_count": null,
   "id": "1f4ca4acdd52aafe",
   "metadata": {},
   "outputs": [
    {
     "name": "stdout",
     "output_type": "stream",
     "text": [
      "Repartitioned on salted_key\n"
     ]
    }
   ],
   "source": [
    "df_repart = hexa.repartition_on_salt(num_partitions=10)\n",
    "print(\"Repartitioned on salted_key\")"
   ]
  },
  {
   "cell_type": "markdown",
   "id": "751b6237c9a10ab2",
   "metadata": {},
   "source": [
    "# Step 10: Show Partition Sizes\n",
    "\n",
    "Compare record counts per partition **before** vs **after** salting.\n",
    "\n",
    "- Helps you verify the skew has been mitigated."
   ]
  },
  {
   "cell_type": "code",
   "execution_count": null,
   "id": "fab5e0f725f187d7",
   "metadata": {},
   "outputs": [
    {
     "name": "stderr",
     "output_type": "stream",
     "text": [
      "[INFO] [Before Salting] sizes=[1000]\n",
      "[INFO] [After Salting] sizes=[128, 83, 50, 81, 92, 120, 108, 80, 143, 115]\n"
     ]
    }
   ],
   "source": [
    "hexa.show_partition_sizes(df_typed, label=\"Before Salting\")\n",
    "hexa.show_partition_sizes(df_repart, label=\"After Salting\")"
   ]
  },
  {
   "cell_type": "markdown",
   "id": "6318ba95179f4f8e",
   "metadata": {},
   "source": [
    "# (OPTIONAL) Step 11: Detect Primary Key Candidate(s) OR Detect Composite Primary Key Candidates\n",
    "\n",
    "Using your **DRTree** shards, we aggregate:\n",
    "\n",
    "- **Distinct counts**: how many **unique values** exist per column (or combo)\n",
    "- **Null counts**: how many **missing values** per column\n",
    "\n",
    "We compute a **confidence score** for each column or combo:\n",
    "\n",
    "### Method Used: `hexa.detect_keys()`\n",
    "\n",
    "This will **first attempt to find a single-column primary key**.  \n",
    "If none is confidently detected, it will **automatically test combinations of 2–3 columns** for a **composite key**.\n",
    "\n",
    "### Parameter breakdown\n",
    "\n",
    "- **`dr_tree: Optional[DRTree] = None`**  \n",
    "\n",
    "  - A DRTree (Decision Rule Tree) **partitioning the data into logical shards**.  \n",
    "\n",
    "  - This helps analyze primary key uniqueness **within each branch of the data**, which is often more reliable than analyzing the entire dataset at once.\n",
    "\n",
    "  - This is the Decision Root Tree that contains filtering predicates per shard.\n",
    "\n",
    "  - Each \"shard\" helps break your data down into logical partitions, making the analysis scale-aware and context-sensitive.\n",
    "\n",
    "  - If not passed, a fallback tree (1=1) is used to treat the entire dataset as one shard.\n",
    "\n",
    "  ▶️ *Tip:* You get this tree from `schemaVisor()` (Step 5). DRTree is built automatically via HexaDruid.schemaVisor(...)\n",
    "\n",
    "- **`verbose=True`**  \n",
    "  Prints out the **distinct ratio, null ratio, and score** per column (or combo).  \n",
    "  ▶️ *Tip:* Useful to manually verify borderline cases.\n",
    "\n",
    "---\n",
    "### 💡 Tips for Beginners\n",
    "\n",
    "- You **must run `schemaVisor()`** before this step so you have a valid `dr_tree` to pass.\n",
    "- If your dataset has no unique ID column, try to **combine 2 or 3 categorical columns** (e.g. `order_id`, `product_id`, `region`)—this is what composite key detection does automatically.\n",
    "- If you get a `KeyError`, make sure the DRTree isn't empty, and that `df_typed` has the expected columns.\n",
    "\n",
    "---"
   ]
  },
  {
   "cell_type": "code",
   "execution_count": null,
   "id": "41e3ecfa6ab8c30f",
   "metadata": {},
   "outputs": [
    {
     "name": "stderr",
     "output_type": "stream",
     "text": [
      "[INFO] id: dr=0.990, null=0.000, score=0.990\n"
     ]
    },
    {
     "name": "stdout",
     "output_type": "stream",
     "text": [
      "Detected primary key column(s): ['id'], confidence: 0.99\n"
     ]
    }
   ],
   "source": [
    "key_result = hexa.detect_keys(dr_tree=dr_tree, verbose=True)\n",
    "\n",
    "if key_result:\n",
    "    print(f\"Detected {key_result['type']} key column(s): {key_result['columns']}, confidence: {key_result['confidence']}\")\n",
    "else:\n",
    "    print(\"No confident primary or composite key detected.\")"
   ]
  },
  {
   "cell_type": "markdown",
   "id": "68da488e",
   "metadata": {},
   "source": [
    "# Step 12: Advisor Suggestions\n",
    "\n",
    "The **AutoParameterAdvisor** shows you:\n",
    "\n",
    "- A table of **skew** vs **cardinality**  \n",
    "- Top 3 skew candidates  \n",
    "- Top 3 groupBy candidates  \n",
    "\n",
    "You can then pick interactively."
   ]
  },
  {
   "cell_type": "code",
   "execution_count": null,
   "id": "5897d390",
   "metadata": {},
   "outputs": [
    {
     "ename": "PySparkRuntimeError",
     "evalue": "[SESSION_OR_CONTEXT_NOT_EXISTS] SparkContext or SparkSession should be created first.",
     "output_type": "error",
     "traceback": [
      "\u001b[31m---------------------------------------------------------------------------\u001b[39m",
      "\u001b[31mPySparkRuntimeError\u001b[39m                       Traceback (most recent call last)",
      "\u001b[36mCell\u001b[39m\u001b[36m \u001b[39m\u001b[32mIn[16]\u001b[39m\u001b[32m, line 2\u001b[39m\n\u001b[32m      1\u001b[39m advisor = AutoParameterAdvisor(df_typed)\n\u001b[32m----> \u001b[39m\u001b[32m2\u001b[39m skew_cands, cat_cands, metrics_df = \u001b[43madvisor\u001b[49m\u001b[43m.\u001b[49m\u001b[43mrecommend\u001b[49m\u001b[43m(\u001b[49m\u001b[43m)\u001b[49m\n\u001b[32m      3\u001b[39m \u001b[38;5;28mprint\u001b[39m(\u001b[33m\"\u001b[39m\u001b[33mPick from:\u001b[39m\u001b[33m\"\u001b[39m, cat_cands)\n\u001b[32m      5\u001b[39m \u001b[38;5;66;03m# Instead of letting it prompt\u001b[39;00m\n",
      "\u001b[36mFile \u001b[39m\u001b[32mc:\\Users\\OmarAttia\\IdeaProjects\\Spark\\hexadruid\\hexadruid\\hexadruid.py:485\u001b[39m, in \u001b[36mAutoParameterAdvisor.recommend\u001b[39m\u001b[34m(self)\u001b[39m\n\u001b[32m    483\u001b[39m \u001b[38;5;28;01mfor\u001b[39;00m f \u001b[38;5;129;01min\u001b[39;00m \u001b[38;5;28mself\u001b[39m.df.schema.fields:\n\u001b[32m    484\u001b[39m     \u001b[38;5;28;01mif\u001b[39;00m f.dataType.simpleString()==\u001b[33m\"\u001b[39m\u001b[33mstring\u001b[39m\u001b[33m\"\u001b[39m:\n\u001b[32m--> \u001b[39m\u001b[32m485\u001b[39m         cnt = \u001b[38;5;28;43mself\u001b[39;49m\u001b[43m.\u001b[49m\u001b[43mdf\u001b[49m\u001b[43m.\u001b[49m\u001b[43mselect\u001b[49m\u001b[43m(\u001b[49m\u001b[43mf\u001b[49m\u001b[43m.\u001b[49m\u001b[43mname\u001b[49m\u001b[43m)\u001b[49m.distinct().count()\n\u001b[32m    486\u001b[39m         ct.append({\u001b[33m\"\u001b[39m\u001b[33mcolumn\u001b[39m\u001b[33m\"\u001b[39m:f.name,\u001b[33m\"\u001b[39m\u001b[33mtype\u001b[39m\u001b[33m\"\u001b[39m:\u001b[33m\"\u001b[39m\u001b[33mstring\u001b[39m\u001b[33m\"\u001b[39m,\u001b[33m\"\u001b[39m\u001b[33mskew\u001b[39m\u001b[33m\"\u001b[39m:\u001b[38;5;28;01mNone\u001b[39;00m,\u001b[33m\"\u001b[39m\u001b[33mcardinality\u001b[39m\u001b[33m\"\u001b[39m:cnt})\n\u001b[32m    487\u001b[39m m = pd.DataFrame(sk+ct)\n",
      "\u001b[36mFile \u001b[39m\u001b[32mc:\\Users\\OmarAttia\\AppData\\Local\\Programs\\Python\\Python311\\Lib\\site-packages\\pyspark\\sql\\classic\\dataframe.py:991\u001b[39m, in \u001b[36mDataFrame.select\u001b[39m\u001b[34m(self, *cols)\u001b[39m\n\u001b[32m    990\u001b[39m \u001b[38;5;28;01mdef\u001b[39;00m\u001b[38;5;250m \u001b[39m\u001b[34mselect\u001b[39m(\u001b[38;5;28mself\u001b[39m, *cols: \u001b[33m\"\u001b[39m\u001b[33mColumnOrName\u001b[39m\u001b[33m\"\u001b[39m) -> ParentDataFrame:  \u001b[38;5;66;03m# type: ignore[misc]\u001b[39;00m\n\u001b[32m--> \u001b[39m\u001b[32m991\u001b[39m     jdf = \u001b[38;5;28mself\u001b[39m._jdf.select(\u001b[38;5;28;43mself\u001b[39;49m\u001b[43m.\u001b[49m\u001b[43m_jcols\u001b[49m\u001b[43m(\u001b[49m\u001b[43m*\u001b[49m\u001b[43mcols\u001b[49m\u001b[43m)\u001b[49m)\n\u001b[32m    992\u001b[39m     \u001b[38;5;28;01mreturn\u001b[39;00m DataFrame(jdf, \u001b[38;5;28mself\u001b[39m.sparkSession)\n",
      "\u001b[36mFile \u001b[39m\u001b[32mc:\\Users\\OmarAttia\\AppData\\Local\\Programs\\Python\\Python311\\Lib\\site-packages\\pyspark\\sql\\classic\\dataframe.py:890\u001b[39m, in \u001b[36mDataFrame._jcols\u001b[39m\u001b[34m(self, *cols)\u001b[39m\n\u001b[32m    888\u001b[39m \u001b[38;5;28;01mif\u001b[39;00m \u001b[38;5;28mlen\u001b[39m(cols) == \u001b[32m1\u001b[39m \u001b[38;5;129;01mand\u001b[39;00m \u001b[38;5;28misinstance\u001b[39m(cols[\u001b[32m0\u001b[39m], \u001b[38;5;28mlist\u001b[39m):\n\u001b[32m    889\u001b[39m     cols = cols[\u001b[32m0\u001b[39m]\n\u001b[32m--> \u001b[39m\u001b[32m890\u001b[39m \u001b[38;5;28;01mreturn\u001b[39;00m \u001b[38;5;28;43mself\u001b[39;49m\u001b[43m.\u001b[49m\u001b[43m_jseq\u001b[49m\u001b[43m(\u001b[49m\u001b[43mcols\u001b[49m\u001b[43m,\u001b[49m\u001b[43m \u001b[49m\u001b[43m_to_java_column\u001b[49m\u001b[43m)\u001b[49m\n",
      "\u001b[36mFile \u001b[39m\u001b[32mc:\\Users\\OmarAttia\\AppData\\Local\\Programs\\Python\\Python311\\Lib\\site-packages\\pyspark\\sql\\classic\\dataframe.py:877\u001b[39m, in \u001b[36mDataFrame._jseq\u001b[39m\u001b[34m(self, cols, converter)\u001b[39m\n\u001b[32m    871\u001b[39m \u001b[38;5;28;01mdef\u001b[39;00m\u001b[38;5;250m \u001b[39m\u001b[34m_jseq\u001b[39m(\n\u001b[32m    872\u001b[39m     \u001b[38;5;28mself\u001b[39m,\n\u001b[32m    873\u001b[39m     cols: Sequence,\n\u001b[32m    874\u001b[39m     converter: Optional[Callable[..., Union[\u001b[33m\"\u001b[39m\u001b[33mPrimitiveType\u001b[39m\u001b[33m\"\u001b[39m, \u001b[33m\"\u001b[39m\u001b[33mJavaObject\u001b[39m\u001b[33m\"\u001b[39m]]] = \u001b[38;5;28;01mNone\u001b[39;00m,\n\u001b[32m    875\u001b[39m ) -> \u001b[33m\"\u001b[39m\u001b[33mJavaObject\u001b[39m\u001b[33m\"\u001b[39m:\n\u001b[32m    876\u001b[39m \u001b[38;5;250m    \u001b[39m\u001b[33;03m\"\"\"Return a JVM Seq of Columns from a list of Column or names\"\"\"\u001b[39;00m\n\u001b[32m--> \u001b[39m\u001b[32m877\u001b[39m     \u001b[38;5;28;01mreturn\u001b[39;00m \u001b[43m_to_seq\u001b[49m\u001b[43m(\u001b[49m\u001b[38;5;28;43mself\u001b[39;49m\u001b[43m.\u001b[49m\u001b[43msparkSession\u001b[49m\u001b[43m.\u001b[49m\u001b[43m_sc\u001b[49m\u001b[43m,\u001b[49m\u001b[43m \u001b[49m\u001b[43mcols\u001b[49m\u001b[43m,\u001b[49m\u001b[43m \u001b[49m\u001b[43mconverter\u001b[49m\u001b[43m)\u001b[49m\n",
      "\u001b[36mFile \u001b[39m\u001b[32mc:\\Users\\OmarAttia\\AppData\\Local\\Programs\\Python\\Python311\\Lib\\site-packages\\pyspark\\sql\\classic\\column.py:104\u001b[39m, in \u001b[36m_to_seq\u001b[39m\u001b[34m(sc, cols, converter)\u001b[39m\n\u001b[32m     97\u001b[39m \u001b[38;5;250m\u001b[39m\u001b[33;03m\"\"\"\u001b[39;00m\n\u001b[32m     98\u001b[39m \u001b[33;03mConvert a list of Columns (or names) into a JVM Seq of Column.\u001b[39;00m\n\u001b[32m     99\u001b[39m \n\u001b[32m    100\u001b[39m \u001b[33;03mAn optional `converter` could be used to convert items in `cols`\u001b[39;00m\n\u001b[32m    101\u001b[39m \u001b[33;03minto JVM Column objects.\u001b[39;00m\n\u001b[32m    102\u001b[39m \u001b[33;03m\"\"\"\u001b[39;00m\n\u001b[32m    103\u001b[39m \u001b[38;5;28;01mif\u001b[39;00m converter:\n\u001b[32m--> \u001b[39m\u001b[32m104\u001b[39m     cols = \u001b[43m[\u001b[49m\u001b[43mconverter\u001b[49m\u001b[43m(\u001b[49m\u001b[43mc\u001b[49m\u001b[43m)\u001b[49m\u001b[43m \u001b[49m\u001b[38;5;28;43;01mfor\u001b[39;49;00m\u001b[43m \u001b[49m\u001b[43mc\u001b[49m\u001b[43m \u001b[49m\u001b[38;5;129;43;01min\u001b[39;49;00m\u001b[43m \u001b[49m\u001b[43mcols\u001b[49m\u001b[43m]\u001b[49m\n\u001b[32m    105\u001b[39m \u001b[38;5;28;01massert\u001b[39;00m sc._jvm \u001b[38;5;129;01mis\u001b[39;00m \u001b[38;5;129;01mnot\u001b[39;00m \u001b[38;5;28;01mNone\u001b[39;00m\n\u001b[32m    106\u001b[39m \u001b[38;5;28;01mreturn\u001b[39;00m sc._jvm.PythonUtils.toSeq(cols)\n",
      "\u001b[36mFile \u001b[39m\u001b[32mc:\\Users\\OmarAttia\\AppData\\Local\\Programs\\Python\\Python311\\Lib\\site-packages\\pyspark\\sql\\classic\\column.py:104\u001b[39m, in \u001b[36m<listcomp>\u001b[39m\u001b[34m(.0)\u001b[39m\n\u001b[32m     97\u001b[39m \u001b[38;5;250m\u001b[39m\u001b[33;03m\"\"\"\u001b[39;00m\n\u001b[32m     98\u001b[39m \u001b[33;03mConvert a list of Columns (or names) into a JVM Seq of Column.\u001b[39;00m\n\u001b[32m     99\u001b[39m \n\u001b[32m    100\u001b[39m \u001b[33;03mAn optional `converter` could be used to convert items in `cols`\u001b[39;00m\n\u001b[32m    101\u001b[39m \u001b[33;03minto JVM Column objects.\u001b[39;00m\n\u001b[32m    102\u001b[39m \u001b[33;03m\"\"\"\u001b[39;00m\n\u001b[32m    103\u001b[39m \u001b[38;5;28;01mif\u001b[39;00m converter:\n\u001b[32m--> \u001b[39m\u001b[32m104\u001b[39m     cols = [\u001b[43mconverter\u001b[49m\u001b[43m(\u001b[49m\u001b[43mc\u001b[49m\u001b[43m)\u001b[49m \u001b[38;5;28;01mfor\u001b[39;00m c \u001b[38;5;129;01min\u001b[39;00m cols]\n\u001b[32m    105\u001b[39m \u001b[38;5;28;01massert\u001b[39;00m sc._jvm \u001b[38;5;129;01mis\u001b[39;00m \u001b[38;5;129;01mnot\u001b[39;00m \u001b[38;5;28;01mNone\u001b[39;00m\n\u001b[32m    106\u001b[39m \u001b[38;5;28;01mreturn\u001b[39;00m sc._jvm.PythonUtils.toSeq(cols)\n",
      "\u001b[36mFile \u001b[39m\u001b[32mc:\\Users\\OmarAttia\\AppData\\Local\\Programs\\Python\\Python311\\Lib\\site-packages\\pyspark\\sql\\classic\\column.py:69\u001b[39m, in \u001b[36m_to_java_column\u001b[39m\u001b[34m(col)\u001b[39m\n\u001b[32m     67\u001b[39m     jcol = col._jc\n\u001b[32m     68\u001b[39m \u001b[38;5;28;01melif\u001b[39;00m \u001b[38;5;28misinstance\u001b[39m(col, \u001b[38;5;28mstr\u001b[39m):\n\u001b[32m---> \u001b[39m\u001b[32m69\u001b[39m     jcol = \u001b[43m_create_column_from_name\u001b[49m\u001b[43m(\u001b[49m\u001b[43mcol\u001b[49m\u001b[43m)\u001b[49m\n\u001b[32m     70\u001b[39m \u001b[38;5;28;01melse\u001b[39;00m:\n\u001b[32m     71\u001b[39m     \u001b[38;5;28;01mraise\u001b[39;00m PySparkTypeError(\n\u001b[32m     72\u001b[39m         errorClass=\u001b[33m\"\u001b[39m\u001b[33mNOT_COLUMN_OR_STR\u001b[39m\u001b[33m\"\u001b[39m,\n\u001b[32m     73\u001b[39m         messageParameters={\u001b[33m\"\u001b[39m\u001b[33marg_name\u001b[39m\u001b[33m\"\u001b[39m: \u001b[33m\"\u001b[39m\u001b[33mcol\u001b[39m\u001b[33m\"\u001b[39m, \u001b[33m\"\u001b[39m\u001b[33marg_type\u001b[39m\u001b[33m\"\u001b[39m: \u001b[38;5;28mtype\u001b[39m(col).\u001b[34m__name__\u001b[39m},\n\u001b[32m     74\u001b[39m     )\n",
      "\u001b[36mFile \u001b[39m\u001b[32mc:\\Users\\OmarAttia\\AppData\\Local\\Programs\\Python\\Python311\\Lib\\site-packages\\pyspark\\sql\\classic\\column.py:61\u001b[39m, in \u001b[36m_create_column_from_name\u001b[39m\u001b[34m(name)\u001b[39m\n\u001b[32m     58\u001b[39m \u001b[38;5;28;01mdef\u001b[39;00m\u001b[38;5;250m \u001b[39m\u001b[34m_create_column_from_name\u001b[39m(name: \u001b[38;5;28mstr\u001b[39m) -> \u001b[33m\"\u001b[39m\u001b[33mJavaObject\u001b[39m\u001b[33m\"\u001b[39m:\n\u001b[32m     59\u001b[39m     \u001b[38;5;28;01mfrom\u001b[39;00m\u001b[38;5;250m \u001b[39m\u001b[34;01mpy4j\u001b[39;00m\u001b[34;01m.\u001b[39;00m\u001b[34;01mjava_gateway\u001b[39;00m\u001b[38;5;250m \u001b[39m\u001b[38;5;28;01mimport\u001b[39;00m JVMView\n\u001b[32m---> \u001b[39m\u001b[32m61\u001b[39m     sc = \u001b[43mget_active_spark_context\u001b[49m\u001b[43m(\u001b[49m\u001b[43m)\u001b[49m\n\u001b[32m     62\u001b[39m     \u001b[38;5;28;01mreturn\u001b[39;00m cast(JVMView, sc._jvm).functions.col(name)\n",
      "\u001b[36mFile \u001b[39m\u001b[32mc:\\Users\\OmarAttia\\AppData\\Local\\Programs\\Python\\Python311\\Lib\\site-packages\\pyspark\\sql\\utils.py:339\u001b[39m, in \u001b[36mget_active_spark_context\u001b[39m\u001b[34m()\u001b[39m\n\u001b[32m    337\u001b[39m sc = SparkContext._active_spark_context\n\u001b[32m    338\u001b[39m \u001b[38;5;28;01mif\u001b[39;00m sc \u001b[38;5;129;01mis\u001b[39;00m \u001b[38;5;28;01mNone\u001b[39;00m \u001b[38;5;129;01mor\u001b[39;00m sc._jvm \u001b[38;5;129;01mis\u001b[39;00m \u001b[38;5;28;01mNone\u001b[39;00m:\n\u001b[32m--> \u001b[39m\u001b[32m339\u001b[39m     \u001b[38;5;28;01mraise\u001b[39;00m PySparkRuntimeError(\n\u001b[32m    340\u001b[39m         errorClass=\u001b[33m\"\u001b[39m\u001b[33mSESSION_OR_CONTEXT_NOT_EXISTS\u001b[39m\u001b[33m\"\u001b[39m,\n\u001b[32m    341\u001b[39m         messageParameters={},\n\u001b[32m    342\u001b[39m     )\n\u001b[32m    343\u001b[39m \u001b[38;5;28;01mreturn\u001b[39;00m sc\n",
      "\u001b[31mPySparkRuntimeError\u001b[39m: [SESSION_OR_CONTEXT_NOT_EXISTS] SparkContext or SparkSession should be created first."
     ]
    }
   ],
   "source": [
    "advisor = AutoParameterAdvisor(df_typed)\n",
    "skew_cands, cat_cands, metrics_df = advisor.recommend()\n",
    "print(\"Pick from:\", cat_cands)\n",
    "\n",
    "# Instead of letting it prompt\n",
    "df_balanced = HexaDruid(df_typed).apply_smart_salting(col_name=skew_cands[0])\n",
    "df_balanced.groupBy(\"category\").count().show()"
   ]
  },
  {
   "cell_type": "markdown",
   "id": "b309e490",
   "metadata": {},
   "source": [
    "# Step 13: Run Interactive Full Pipeline\n",
    "\n",
    "One command that:\n",
    "\n",
    "1. Prompts you to **choose** skew & groupBy columns  \n",
    "2. Applies **salting**, shows **before/after** timings & partition sizes  \n",
    "\n",
    "Perfect for demos!"
   ]
  },
  {
   "cell_type": "code",
   "execution_count": null,
   "id": "cd4fcc71",
   "metadata": {},
   "outputs": [
    {
     "name": "stdout",
     "output_type": "stream",
     "text": [
      "\n",
      "=== Metrics ===\n",
      "  column    type     skew  cardinality\n",
      "   value numeric 0.218182          NaN\n",
      "category  string      NaN          5.0\n",
      "      id  string      NaN       1000.0\n",
      "   score  string      NaN       1000.0\n",
      "\n",
      "Skew → ['value']\n",
      "GroupBy → ['category', 'id', 'score']\n"
     ]
    },
    {
     "name": "stderr",
     "output_type": "stream",
     "text": [
      "[INFO] [Tuner] n=10, cost=1127\n",
      "[INFO] [Tuner] n=4, cost=2647\n",
      "[INFO] [Tuner] n=8, cost=1547\n",
      "[INFO] [Tuner] chosen salt_count=10\n",
      "[INFO] [ShuffleTuner] partitions=1\n",
      "[INFO] [Before] 0.208s\n"
     ]
    },
    {
     "name": "stdout",
     "output_type": "stream",
     "text": [
      "+--------+-----+\n",
      "|category|count|\n",
      "+--------+-----+\n",
      "|       A|  504|\n",
      "|       C|   95|\n",
      "|       D|  102|\n",
      "|       B|  215|\n",
      "|       E|   84|\n",
      "+--------+-----+\n",
      "\n"
     ]
    },
    {
     "name": "stderr",
     "output_type": "stream",
     "text": [
      "[INFO] [After] 0.215s\n"
     ]
    },
    {
     "name": "stdout",
     "output_type": "stream",
     "text": [
      "+--------+-----+\n",
      "|category|count|\n",
      "+--------+-----+\n",
      "|       A|  504|\n",
      "|       C|   95|\n",
      "|       D|  102|\n",
      "|       B|  215|\n",
      "|       E|   84|\n",
      "+--------+-----+\n",
      "\n"
     ]
    },
    {
     "name": "stderr",
     "output_type": "stream",
     "text": [
      "[INFO] [Before] sizes=[1000]\n",
      "[INFO] [After] sizes=[1000]\n"
     ]
    },
    {
     "data": {
      "image/png": "[encoded data removed]",
      "text/plain": [
       "<Figure size 1400x400 with 2 Axes>"
      ]
     },
     "metadata": {},
     "output_type": "display_data"
    }
   ],
   "source": [
    "# df_balanced = balance_skew(df_typed)"
   ]
  },
  {
   "cell_type": "markdown",
   "id": "a14fa190",
   "metadata": {},
   "source": [
    "# Step 14: Stop Spark Session\n",
    "\n",
    "Always clean up when done."
   ]
  },
  {
   "cell_type": "code",
   "execution_count": null,
   "id": "c6d8ef23",
   "metadata": {},
   "outputs": [
    {
     "name": "stdout",
     "output_type": "stream",
     "text": [
      "Spark session stopped.\n"
     ]
    }
   ],
   "source": [
    "spark.stop()\n",
    "print(\"Spark session stopped.\")"
   ]
  }
 ],
 "metadata": {
  "kernelspec": {
   "display_name": "Python 3",
   "language": "python",
   "name": "python3"
  },
  "language_info": {
   "codemirror_mode": {
    "name": "ipython",
    "version": 3
   },
   "file_extension": ".py",
   "mimetype": "text/x-python",
   "name": "python",
   "nbconvert_exporter": "python",
   "pygments_lexer": "ipython3",
   "version": "3.11.9"
  }
 },
 "nbformat": 4,
 "nbformat_minor": 5
}
