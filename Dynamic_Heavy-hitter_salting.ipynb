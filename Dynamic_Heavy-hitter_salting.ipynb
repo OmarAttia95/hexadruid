{
 "cells": [
  {
   "cell_type": "markdown",
   "id": "47895aa0",
   "metadata": {},
   "source": [
    "## 🚀 Applying the New Dynamic Heavy-Hitter Salting\n",
    "\n",
    "With the updated `apply_smart_salting` you can now salt **without any arguments**, and HexaDruid will:\n",
    "\n",
    "1. **Auto-detect** the single most skewed column  \n",
    "2. **Auto-choose** `salt_count` based on your cluster’s parallelism  \n",
    "3. **Identify heavy hitters** and spread them evenly  \n",
    "4. **Hash the rest** into balanced buckets\n",
    "\n",
    "You can still override either or both if you want full control.\n",
    "\n",
    "---\n",
    "\n",
    "### Usage Patterns\n",
    "\n",
    "| Call                                  | Behavior                                                                                  |\n",
    "|---------------------------------------|-------------------------------------------------------------------------------------------|\n",
    "| `hd.apply_smart_salting()`            | Auto-detect col + auto salt_count + heavy-hitter salting                                  |\n",
    "| `hd.apply_smart_salting(\"user_id\")`   | Use `\"user_id\"` and auto salt_count + heavy-hitter logic                                  |\n",
    "| `hd.apply_smart_salting(salt_count=8)`| Auto-detect col and force 8 buckets + heavy-hitter logic                                  |\n",
    "| `hd.apply_smart_salting(\"amt\", 5)`    | Force both `\"amt\"` and 5 buckets (heavy hitters + hash)                                   |"
   ]
  },
  {
   "cell_type": "markdown",
   "id": "a6629e2f",
   "metadata": {},
   "source": [
    "### Imports & SparkSession"
   ]
  },
  {
   "cell_type": "code",
   "execution_count": 1,
   "id": "3495d70e",
   "metadata": {},
   "outputs": [],
   "source": [
    "from pyspark.sql import SparkSession\n",
    "from hexadruid import HexaDruid"
   ]
  },
  {
   "cell_type": "markdown",
   "id": "d436f24b",
   "metadata": {},
   "source": [
    "#### 1 - Spark tuning: match 5 shuffle tasks to our bucket count"
   ]
  },
  {
   "cell_type": "code",
   "execution_count": 2,
   "id": "2edb6356",
   "metadata": {},
   "outputs": [],
   "source": [
    "spark = SparkSession.builder.getOrCreate()\n",
    "spark.conf.set(\"spark.sql.shuffle.partitions\", str(spark.sparkContext.defaultParallelism))"
   ]
  },
  {
   "cell_type": "markdown",
   "id": "45e4b0e0",
   "metadata": {},
   "source": [
    "\n",
    "#### 2 -  Build skewed DataFrame"
   ]
  },
  {
   "cell_type": "code",
   "execution_count": 4,
   "id": "8418eb85",
   "metadata": {},
   "outputs": [],
   "source": [
    "#    e.g. 80% user_id=\"A\", rest U0–U9\n",
    "data = [(\"A\" if i % 5 != 0 else f\"U{i%10}\", float(i % 100)) for i in range(100_000)]\n",
    "df = spark.createDataFrame(data, schema=[\"user_id\",\"amount\"])"
   ]
  },
  {
   "cell_type": "markdown",
   "id": "0011ee3d",
   "metadata": {},
   "source": [
    "#### Initialize HexaDruid"
   ]
  },
  {
   "cell_type": "code",
   "execution_count": 5,
   "id": "17b0b6bb",
   "metadata": {},
   "outputs": [
    {
     "name": "stderr",
     "output_type": "stream",
     "text": [
      "[INFO] Initialized HexaDruid (out=hexa_druid_outputs)\n"
     ]
    }
   ],
   "source": [
    "hd = HexaDruid(df)"
   ]
  },
  {
   "cell_type": "markdown",
   "id": "6478ffcd",
   "metadata": {},
   "source": [
    "### 4a) Fully automatic heavy-hitter salting"
   ]
  },
  {
   "cell_type": "code",
   "execution_count": null,
   "id": "791c52d0",
   "metadata": {},
   "outputs": [
    {
     "name": "stderr",
     "output_type": "stream",
     "text": [
      "[INFO] Auto-detected skew column: user_id\n",
      "[INFO] Using salt_count=14\n",
      "[INFO] Found heavy hitters: ['U5', 'U0', 'A']\n"
     ]
    },
    {
     "name": "stdout",
     "output_type": "stream",
     "text": [
      "\n",
      "🔍 Auto-detected & salted:\n",
      "+----+-----+\n",
      "|salt|count|\n",
      "+----+-----+\n",
      "|   0| 7065|\n",
      "|   1| 7158|\n",
      "|   2| 7234|\n",
      "|   3| 7129|\n",
      "|   4| 7249|\n",
      "|   5| 7266|\n",
      "|   6| 7079|\n",
      "|   7| 7334|\n",
      "|   8| 7076|\n",
      "|   9| 7079|\n",
      "|  10| 7083|\n",
      "|  11| 7085|\n",
      "|  12| 7048|\n",
      "|  13| 7115|\n",
      "+----+-----+\n",
      "\n"
     ]
    }
   ],
   "source": [
    "df_auto = hd.apply_smart_salting()\n",
    "print(\"\\nAuto-detected & salted:\")\n",
    "df_auto.groupBy(\"salt\").count().orderBy(\"salt\").show()"
   ]
  },
  {
   "cell_type": "markdown",
   "id": "18027baa",
   "metadata": {},
   "source": [
    "### 4b) Override only the salt count (keep auto column)"
   ]
  },
  {
   "cell_type": "code",
   "execution_count": null,
   "id": "37693e1c",
   "metadata": {},
   "outputs": [
    {
     "name": "stderr",
     "output_type": "stream",
     "text": [
      "[INFO] Auto-detected skew column: user_id\n",
      "[INFO] Using salt_count=8\n",
      "[INFO] Found heavy hitters: ['A']\n"
     ]
    },
    {
     "name": "stdout",
     "output_type": "stream",
     "text": [
      "\n",
      "🔧 Forced 8 buckets (auto column):\n",
      "+----+-----+\n",
      "|salt|count|\n",
      "+----+-----+\n",
      "|   0| 9937|\n",
      "|   1|10066|\n",
      "|   2|20132|\n",
      "|   3|10007|\n",
      "|   4|20086|\n",
      "|   5| 9937|\n",
      "|   6| 9943|\n",
      "|   7| 9892|\n",
      "+----+-----+\n",
      "\n"
     ]
    }
   ],
   "source": [
    "df_salt8 = hd.apply_smart_salting(salt_count=8)\n",
    "print(\"\\nForced 8 buckets (auto column):\")\n",
    "df_salt8.groupBy(\"salt\").count().orderBy(\"salt\").show()"
   ]
  },
  {
   "cell_type": "markdown",
   "id": "14e9b8f2",
   "metadata": {},
   "source": [
    "### 4c) Override only the column (keep auto salt_count)"
   ]
  },
  {
   "cell_type": "code",
   "execution_count": null,
   "id": "2608ce68",
   "metadata": {},
   "outputs": [
    {
     "name": "stderr",
     "output_type": "stream",
     "text": [
      "[INFO] Using salt_count=14\n",
      "[INFO] Found heavy hitters: []\n"
     ]
    },
    {
     "name": "stdout",
     "output_type": "stream",
     "text": [
      "\n",
      "🎯 Forced 'amount' column (auto buckets):\n",
      "+----+-----+\n",
      "|salt|count|\n",
      "+----+-----+\n",
      "|   0| 5000|\n",
      "|   1| 7000|\n",
      "|   2| 8000|\n",
      "|   3| 6000|\n",
      "|   4| 6000|\n",
      "|   5| 3000|\n",
      "|   6| 5000|\n",
      "|   7| 5000|\n",
      "|   8| 9000|\n",
      "|   9|11000|\n",
      "|  10|10000|\n",
      "|  11| 8000|\n",
      "|  12|10000|\n",
      "|  13| 7000|\n",
      "+----+-----+\n",
      "\n"
     ]
    }
   ],
   "source": [
    "df_on_amt = hd.apply_smart_salting(\"amount\")\n",
    "print(\"\\nForced 'amount' column (auto buckets):\")\n",
    "df_on_amt.groupBy(\"salt\").count().orderBy(\"salt\").show()"
   ]
  },
  {
   "cell_type": "markdown",
   "id": "56f155ad",
   "metadata": {},
   "source": [
    "\n",
    "### 4d) Full manual override"
   ]
  },
  {
   "cell_type": "code",
   "execution_count": null,
   "id": "297c0f06",
   "metadata": {},
   "outputs": [
    {
     "name": "stderr",
     "output_type": "stream",
     "text": [
      "[INFO] Using salt_count=12\n",
      "[INFO] Found heavy hitters: ['U5', 'U0', 'A']\n"
     ]
    },
    {
     "name": "stdout",
     "output_type": "stream",
     "text": [
      "\n",
      "✍️  Custom: 'user_id' + 12 buckets:\n",
      "+----+-----+\n",
      "|salt|count|\n",
      "+----+-----+\n",
      "|   0| 8260|\n",
      "|   1| 8472|\n",
      "|   2| 8269|\n",
      "|   3| 8400|\n",
      "|   4| 8515|\n",
      "|   5| 8264|\n",
      "|   6| 8550|\n",
      "|   7| 8190|\n",
      "|   8| 8272|\n",
      "|   9| 8298|\n",
      "|  10| 8240|\n",
      "|  11| 8270|\n",
      "+----+-----+\n",
      "\n"
     ]
    }
   ],
   "source": [
    "df_custom = hd.apply_smart_salting(\"user_id\", salt_count=12)\n",
    "print(\"\\nCustom: 'user_id' + 12 buckets:\")\n",
    "df_custom.groupBy(\"salt\").count().orderBy(\"salt\").show()"
   ]
  }
 ],
 "metadata": {
  "kernelspec": {
   "display_name": "Python 3",
   "language": "python",
   "name": "python3"
  },
  "language_info": {
   "codemirror_mode": {
    "name": "ipython",
    "version": 3
   },
   "file_extension": ".py",
   "mimetype": "text/x-python",
   "name": "python",
   "nbconvert_exporter": "python",
   "pygments_lexer": "ipython3",
   "version": "3.11.9"
  }
 },
 "nbformat": 4,
 "nbformat_minor": 5
}
